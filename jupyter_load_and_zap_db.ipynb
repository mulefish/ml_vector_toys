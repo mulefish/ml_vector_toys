{
 "cells": [
  {
   "cell_type": "code",
   "execution_count": 8,
   "id": "c962f1a0",
   "metadata": {},
   "outputs": [
    {
     "name": "stdout",
     "output_type": "stream",
     "text": [
      "Ready\n"
     ]
    }
   ],
   "source": [
    "# !pip install --upgrade astrapy\n",
    "from astrapy.db import AstraDB\n",
    "from getAstaAPIToken import get_token_from_file\n",
    "token = get_token_from_file()\n",
    "astaUrl = \"https://9b3690b6-f229-4ee7-b679-b5795df78bb1-us-east-2.apps.astra.datastax.com\"\n",
    "print(\"Ready\")"
   ]
  },
  {
   "cell_type": "code",
   "execution_count": 21,
   "id": "314048c1",
   "metadata": {},
   "outputs": [
    {
     "name": "stdout",
     "output_type": "stream",
     "text": [
      "AstraDB[endpoint=\"https://9b3690b6-f229-4ee7-b679-b5795df78bb1-us-east-2.apps.astra.datastax.com\", keyspace=\"default_keyspace\"]\n",
      "AstraDBCollection[astra_db=\"AstraDB[endpoint=\"https://9b3690b6-f229-4ee7-b679-b5795df78bb1-us-east-2.apps.astra.datastax.com\", keyspace=\"default_keyspace\"]\", collection_name=\"vector_test\"]\n",
      "{'status': {'insertedIds': ['2', '3', '1']}}\n",
      "The present King of France is bald\n",
      "Reubin kicked his donkey\n",
      "THE END\n"
     ]
    }
   ],
   "source": [
    "\n",
    "db = AstraDB(\n",
    "    token=token, \n",
    "    api_endpoint=astaUrl,\n",
    "    namespace=\"default_keyspace\",\n",
    ")\n",
    "print(db)\n",
    "\n",
    "# Create a collection. The default similarity metric is \"cosine\".\n",
    "collection = db.create_collection(\"vector_test\", dimension=5, metric=\"cosine\")\n",
    "print(collection)\n",
    "\n",
    "# Insert documents into the collection\n",
    "documents = [\n",
    "    {\n",
    "        \"_id\": \"1\",\n",
    "        \"text\": \"Colorless green ideas sleep furiously\",\n",
    "        \"$vector\": [0.1, 0.15, 0.3, 0.12, 0.05],\n",
    "    },\n",
    "    {\n",
    "        \"_id\": \"2\",\n",
    "        \"text\": \"The present King of France is bald\",\n",
    "        \"$vector\": [0.45, 0.09, 0.01, 0.2, 0.11],\n",
    "    },\n",
    "    {\n",
    "        \"_id\": \"3\",\n",
    "        \"text\": \"Reubin kicked his donkey\",\n",
    "        \"$vector\": [0.1, 0.05, 0.08, 0.3, 0.6],\n",
    "    },\n",
    "]\n",
    "res = collection.insert_many(documents)\n",
    "\n",
    "print(res)\n",
    "\n",
    "# Perform a similarity search\n",
    "# query = [0.15, 0.1, 0.1, 0.35, 0.55]\n",
    "query = [0.45, 0.09, 0.01, 0.2, 0.10]\n",
    "\n",
    "results = collection.vector_find(query, limit=2, fields={\"text\", \"$vector\"})\n",
    "i = 0 \n",
    "for document in results:\n",
    "    i += 1\n",
    "    # print(\"{} text={}\".format(i, document['text']))\n",
    "    print( document[\"text\"] )\n",
    "# Delete the collection\n",
    "# res = db.delete_collection(collection_name=\"vector_test\")\n",
    "# print(res)\n",
    "print(\"THE END\")"
   ]
  },
  {
   "cell_type": "code",
   "execution_count": null,
   "id": "d7350511",
   "metadata": {},
   "outputs": [],
   "source": []
  }
 ],
 "metadata": {
  "kernelspec": {
   "display_name": "Python 3 (ipykernel)",
   "language": "python",
   "name": "python3"
  },
  "language_info": {
   "codemirror_mode": {
    "name": "ipython",
    "version": 3
   },
   "file_extension": ".py",
   "mimetype": "text/x-python",
   "name": "python",
   "nbconvert_exporter": "python",
   "pygments_lexer": "ipython3",
   "version": "3.11.7"
  }
 },
 "nbformat": 4,
 "nbformat_minor": 5
}
